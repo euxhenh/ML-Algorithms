{
 "cells": [
  {
   "cell_type": "code",
   "execution_count": 1,
   "metadata": {},
   "outputs": [],
   "source": [
    "from cbow import CBOW\n",
    "import numpy as np"
   ]
  },
  {
   "cell_type": "code",
   "execution_count": 2,
   "metadata": {},
   "outputs": [],
   "source": [
    "def cos(a, b):\n",
    "    return np.dot(a, b) / (np.linalg.norm(a) * np.linalg.norm(b))"
   ]
  },
  {
   "cell_type": "code",
   "execution_count": 3,
   "metadata": {},
   "outputs": [],
   "source": [
    "with open(\"data.txt\", \"r\") as f:\n",
    "    text = f.read()\n",
    "text = np.array(text.split(' '))\n",
    "text = text[np.where(text != '')]"
   ]
  },
  {
   "cell_type": "code",
   "execution_count": 10,
   "metadata": {
    "scrolled": true
   },
   "outputs": [
    {
     "name": "stdout",
     "output_type": "stream",
     "text": [
      "Epoch 0 :: Loss 0.004113562090457002\n",
      "Epoch 1 :: Loss 0.004116589946487178\n",
      "Epoch 2 :: Loss 0.0041219786953716146\n",
      "Epoch 3 :: Loss 0.004142251172659111\n",
      "Epoch 4 :: Loss 0.004194229457356439\n",
      "Epoch 5 :: Loss 0.004292346077262836\n",
      "Epoch 6 :: Loss 0.004422282537824453\n",
      "Epoch 7 :: Loss 0.004558905611478135\n",
      "Epoch 8 :: Loss 0.004704529366826366\n",
      "Epoch 9 :: Loss 0.004866786743311899\n",
      "Epoch 10 :: Loss 0.005045614704954271\n",
      "Epoch 11 :: Loss 0.00523452901708704\n",
      "Epoch 12 :: Loss 0.0054192181073356525\n",
      "Epoch 13 :: Loss 0.005592103239059441\n",
      "Epoch 14 :: Loss 0.005738544243988657\n",
      "Epoch 15 :: Loss 0.005856978722920833\n",
      "Epoch 16 :: Loss 0.005957515437786534\n",
      "Epoch 17 :: Loss 0.006039497139267918\n",
      "Epoch 18 :: Loss 0.006099870123480497\n",
      "Epoch 19 :: Loss 0.006147543001444731\n",
      "Epoch 20 :: Loss 0.006185421282753168\n",
      "Epoch 21 :: Loss 0.006216417983760533\n",
      "Epoch 22 :: Loss 0.006241796629561732\n",
      "Epoch 23 :: Loss 0.0062603918211285945\n",
      "Epoch 24 :: Loss 0.006273561236578151\n",
      "Epoch 25 :: Loss 0.00628352023798211\n",
      "Epoch 26 :: Loss 0.006291492376194147\n",
      "Epoch 27 :: Loss 0.0062985992116766885\n",
      "Epoch 28 :: Loss 0.00630458737122787\n",
      "Epoch 29 :: Loss 0.006308423588797113\n",
      "Epoch 30 :: Loss 0.006311242260823226\n",
      "Epoch 31 :: Loss 0.006313238438402282\n",
      "Epoch 32 :: Loss 0.00631512252142033\n",
      "Epoch 33 :: Loss 0.006316610364011442\n",
      "Epoch 34 :: Loss 0.006318386527912782\n",
      "Epoch 35 :: Loss 0.0063200639175742925\n",
      "Epoch 36 :: Loss 0.006321198221415266\n",
      "Epoch 37 :: Loss 0.006321382867306593\n",
      "Epoch 38 :: Loss 0.006321382943867637\n",
      "Epoch 39 :: Loss 0.006321382943867646\n",
      "Epoch 40 :: Loss 0.006321382943867646\n",
      "Epoch 41 :: Loss 0.006321382943867646\n",
      "Epoch 42 :: Loss 0.006321382943867646\n",
      "Epoch 43 :: Loss 0.006321382943867646\n",
      "Epoch 44 :: Loss 0.006321382943867646\n",
      "Epoch 45 :: Loss 0.006321382943867646\n",
      "Epoch 46 :: Loss 0.006321382943867646\n",
      "Epoch 47 :: Loss 0.006321382943867646\n",
      "Epoch 48 :: Loss 0.006321382943867646\n",
      "Epoch 49 :: Loss 0.006321382943867646\n"
     ]
    }
   ],
   "source": [
    "window = 2\n",
    "n = 100\n",
    "lr = 1e-4\n",
    "epochs = 50\n",
    "\n",
    "cbow = CBOW(text=text, window=window, n=n, learning_rate=lr)\n",
    "\n",
    "for epoch in range(epochs):\n",
    "    cbow.fit(epoch)"
   ]
  },
  {
   "cell_type": "markdown",
   "metadata": {},
   "source": [
    "<h3>Closest words</h3>"
   ]
  },
  {
   "cell_type": "code",
   "execution_count": 11,
   "metadata": {},
   "outputs": [],
   "source": [
    "def word2vec(word):\n",
    "    index = cbow.word2index[word]\n",
    "    return (cbow.V[:, index] + cbow.U[index, :]) / 2"
   ]
  },
  {
   "cell_type": "code",
   "execution_count": 12,
   "metadata": {},
   "outputs": [],
   "source": [
    "vecs = []\n",
    "for word in cbow.vocab:\n",
    "    vecs.append(word2vec(word))\n",
    "vecs = np.array(vecs)"
   ]
  },
  {
   "cell_type": "code",
   "execution_count": 13,
   "metadata": {},
   "outputs": [],
   "source": [
    "def get_dists(word):\n",
    "    v = word2vec(word)\n",
    "    dists = np.array([cos(v, w) for w in vecs])\n",
    "    return dists"
   ]
  },
  {
   "cell_type": "code",
   "execution_count": 14,
   "metadata": {},
   "outputs": [],
   "source": [
    "def get_top_5(word):\n",
    "    dists = get_dists(word)\n",
    "    sorted_dists = np.flip(np.argsort(dists))\n",
    "    return cbow.vocab[sorted_dists][:6], dists[sorted_dists][:6]"
   ]
  },
  {
   "cell_type": "code",
   "execution_count": 15,
   "metadata": {},
   "outputs": [
    {
     "name": "stdout",
     "output_type": "stream",
     "text": [
      "(array(['stock', 'value', 'out', 'mr', 'is', 'year'], dtype='<U22'), array([1., 1., 1., 1., 1., 1.]))\n",
      "(array(['mortgage', 'pernod', 'down', '5m', 'share', 'rosneft'],\n",
      "      dtype='<U22'), array([1., 1., 1., 1., 1., 1.]))\n",
      "(array(['dollar', 'market', 'firm', 'has', 'insurer', 'financial'],\n",
      "      dtype='<U22'), array([1., 1., 1., 1., 1., 1.]))\n"
     ]
    }
   ],
   "source": [
    "print(get_top_5(\"stock\"))\n",
    "print(get_top_5(\"mortgage\"))\n",
    "print(get_top_5(\"dollar\"))"
   ]
  },
  {
   "cell_type": "code",
   "execution_count": 16,
   "metadata": {},
   "outputs": [],
   "source": [
    "v_fall = word2vec(\"fall\")\n",
    "ind_fall = cbow.word2index[\"fall\"]\n",
    "v_rise = word2vec(\"rise\")\n",
    "ind_rise = cbow.word2index[\"rise\"]\n",
    "v_low = word2vec(\"low\")\n",
    "ind_low = cbow.word2index[\"low\"]"
   ]
  },
  {
   "cell_type": "code",
   "execution_count": 17,
   "metadata": {},
   "outputs": [],
   "source": [
    "add_obj_val = np.array([cos(w, v_rise - v_fall + v_low) for w in vecs])\n",
    "mul_obj_val = np.array([cos(w, v_rise) * cos(w, v_low) / (cos(w, v_fall) + 1e-8) for w in vecs])"
   ]
  },
  {
   "cell_type": "code",
   "execution_count": 18,
   "metadata": {},
   "outputs": [
    {
     "name": "stdout",
     "output_type": "stream",
     "text": [
      "[('from', 0.9999999997810832), ('move', 0.9999999996492474), ('low', 0.9999999996476001), ('year', 0.9999999996075158), ('is', 0.9999999996072111), ('fund', 0.9999999995739877), ('even', 0.9999999995434932), ('however', 0.9999999995006482), ('decline', 0.9999999994904881), ('which', 0.9999999994879907)]\n"
     ]
    }
   ],
   "source": [
    "d = np.flip(np.argsort(add_obj_val))\n",
    "print([(cbow.vocab[d][i], add_obj_val[d][i]) for i in range(10)])"
   ]
  },
  {
   "cell_type": "code",
   "execution_count": 19,
   "metadata": {},
   "outputs": [
    {
     "name": "stdout",
     "output_type": "stream",
     "text": [
      "[('by', 0.9999999978327363), ('and', 0.9999999976982104), ('to', 0.9999999976908518), ('at', 0.9999999976427397), ('yuan', 0.9999999976222278), ('case', 0.9999999976196763), ('prices', 0.9999999976135749), ('may', 0.9999999975352913), ('past', 0.9999999974999253), ('economy', 0.9999999974251517)]\n"
     ]
    }
   ],
   "source": [
    "d = np.flip(np.argsort(mul_obj_val))\n",
    "print([(cbow.vocab[d][i], mul_obj_val[d][i]) for i in range(10)])"
   ]
  }
 ],
 "metadata": {
  "kernelspec": {
   "display_name": "Python 3",
   "language": "python",
   "name": "python3"
  },
  "language_info": {
   "codemirror_mode": {
    "name": "ipython",
    "version": 3
   },
   "file_extension": ".py",
   "mimetype": "text/x-python",
   "name": "python",
   "nbconvert_exporter": "python",
   "pygments_lexer": "ipython3",
   "version": "3.8.2"
  }
 },
 "nbformat": 4,
 "nbformat_minor": 2
}
