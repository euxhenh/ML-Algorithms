{
 "cells": [
  {
   "cell_type": "code",
   "execution_count": 1,
   "metadata": {},
   "outputs": [],
   "source": [
    "import numpy as np\n",
    "from VAE import VAE\n",
    "from matplotlib import pyplot as plt\n",
    "from utils import *"
   ]
  },
  {
   "cell_type": "code",
   "execution_count": 2,
   "metadata": {},
   "outputs": [],
   "source": [
    "plt.rcParams[\"figure.figsize\"] = (10, 10)"
   ]
  },
  {
   "cell_type": "markdown",
   "metadata": {},
   "source": [
    "<h2>Params</h2>"
   ]
  },
  {
   "cell_type": "code",
   "execution_count": 3,
   "metadata": {},
   "outputs": [],
   "source": [
    "x_train = np.load('data.npy')\n",
    "\n",
    "epochs = 300\n",
    "batch_size = 32"
   ]
  },
  {
   "cell_type": "markdown",
   "metadata": {},
   "source": [
    "<h2>Train</h2>"
   ]
  },
  {
   "cell_type": "code",
   "execution_count": null,
   "metadata": {
    "scrolled": true
   },
   "outputs": [],
   "source": [
    "vae = VAE()\n",
    "\n",
    "ces = []\n",
    "kls = []\n",
    "for epoch in range(epochs):\n",
    "    indices = np.arange(x_train.shape[0])\n",
    "    np.random.shuffle(indices)\n",
    "\n",
    "    for b in range(0, indices.shape[0], batch_size):\n",
    "        out = vae.forward(x_train[indices[b:b+batch_size]])\n",
    "        _ = vae.backward(x_train[indices[b:b+batch_size]], out)\n",
    "\n",
    "    out_all = vae.forward(x_train)\n",
    "    l = vae.loss(x_train, out_all)\n",
    "    ces.append(vae.ce)\n",
    "    kls.append(vae.kl)\n",
    "\n",
    "    print(\"Epoch {0} :: Reconstruction loss {1} :: Regularization loss {2}\".format(epoch+1, ces[-1], kls[-1]))"
   ]
  },
  {
   "cell_type": "markdown",
   "metadata": {},
   "source": [
    "<h2>Reconstruction</h2>"
   ]
  },
  {
   "cell_type": "code",
   "execution_count": 10,
   "metadata": {},
   "outputs": [],
   "source": [
    "ims = []\n",
    "for i in range(100):\n",
    "    j = np.random.randint(0, x_train.shape[0]-1)\n",
    "    mu, logvar = vae.encode(x_train[j])\n",
    "    eps = np.random.normal(0, 1, vae.z_units)\n",
    "    z = mu + np.multiply(eps, np.sqrt(np.exp(logvar)))\n",
    "    im = vae.decode(z).reshape(28, 28)\n",
    "    ims.append(im)\n",
    "ims = np.array(ims)"
   ]
  },
  {
   "cell_type": "code",
   "execution_count": 11,
   "metadata": {},
   "outputs": [],
   "source": [
    "img_tile(ims, path=\"images\", epoch=300, save=True)"
   ]
  },
  {
   "cell_type": "code",
   "execution_count": 4,
   "metadata": {},
   "outputs": [],
   "source": [
    "def interpolate(im1, im2, steps=10):\n",
    "    mu1, logvar1 = vae.encode(im1)\n",
    "    mu2, logvar2 = vae.encode(im2)\n",
    "    \n",
    "    ims = []\n",
    "    \n",
    "    dmu, dlogvar = mu2 - mu1, logvar2 - logvar1\n",
    "    for delta in range(steps):\n",
    "        mu = mu1 + delta/steps * dmu\n",
    "        logvar = logvar1 + delta/steps * dlogvar\n",
    "        eps = np.random.normal(0, 1, vae.z_units)\n",
    "        \n",
    "        z = mu + np.multiply(eps, np.sqrt(np.exp(logvar)))\n",
    "        x = vae.decode(z)\n",
    "        \n",
    "        ims.append(x.reshape(28, 28))\n",
    "    return np.array(ims)"
   ]
  },
  {
   "cell_type": "code",
   "execution_count": 5,
   "metadata": {},
   "outputs": [],
   "source": [
    "def plot_images(images, cols=3, cmap='gray'):\n",
    "    rows = (len(images) + cols - 1) / cols\n",
    "    for i, image in enumerate(images):\n",
    "        plt.subplot(rows, cols, i+1)\n",
    "        plt.imshow(image, cmap=cmap)\n",
    "    plt.show()"
   ]
  },
  {
   "cell_type": "code",
   "execution_count": null,
   "metadata": {},
   "outputs": [],
   "source": [
    "ims = interpolate(x_train[17], x_train[23])\n",
    "img_save(ims, path=\"images\", epoch=22)"
   ]
  },
  {
   "cell_type": "markdown",
   "metadata": {},
   "source": [
    "<h2>Losses</h2>"
   ]
  },
  {
   "cell_type": "code",
   "execution_count": null,
   "metadata": {},
   "outputs": [],
   "source": [
    "plt.plot(list(range(1, len(ces)+1)), ces)\n",
    "plt.xlabel(\"Epochs\")\n",
    "plt.ylabel(\"Reconstruction Loss\")\n",
    "plt.title(\"Reconstruction Loss\")\n",
    "#plt.savefig(\"images/ce.png\")\n",
    "plt.show()"
   ]
  },
  {
   "cell_type": "code",
   "execution_count": null,
   "metadata": {},
   "outputs": [],
   "source": [
    "plt.plot(list(range(1, len(kls)+1)), kls)\n",
    "plt.xlabel(\"Epochs\")\n",
    "plt.ylabel(\"Regularization Loss\")\n",
    "plt.title(\"Regularization Loss\")\n",
    "#plt.savefig(\"images/kl.png\")\n",
    "plt.show()"
   ]
  },
  {
   "cell_type": "markdown",
   "metadata": {},
   "source": [
    "<h2>Save</h2>"
   ]
  },
  {
   "cell_type": "code",
   "execution_count": 6,
   "metadata": {},
   "outputs": [],
   "source": [
    "fname = \"epochs300\""
   ]
  },
  {
   "cell_type": "code",
   "execution_count": null,
   "metadata": {},
   "outputs": [],
   "source": [
    "import pickle\n",
    "with open(f\"states/{fname}.pkl\", \"wb\") as f:\n",
    "    pickle.dump(vae, f)"
   ]
  },
  {
   "cell_type": "markdown",
   "metadata": {},
   "source": [
    "<h2>Load</h2>"
   ]
  },
  {
   "cell_type": "code",
   "execution_count": 7,
   "metadata": {},
   "outputs": [],
   "source": [
    "import pickle\n",
    "with open(f\"states/{fname}.pkl\", \"rb\") as f:\n",
    "    vae = pickle.load(f)"
   ]
  }
 ],
 "metadata": {
  "kernelspec": {
   "display_name": "Python 3",
   "language": "python",
   "name": "python3"
  },
  "language_info": {
   "codemirror_mode": {
    "name": "ipython",
    "version": 3
   },
   "file_extension": ".py",
   "mimetype": "text/x-python",
   "name": "python",
   "nbconvert_exporter": "python",
   "pygments_lexer": "ipython3",
   "version": "3.8.2"
  }
 },
 "nbformat": 4,
 "nbformat_minor": 2
}
